{
  "nbformat": 4,
  "nbformat_minor": 0,
  "metadata": {
    "colab": {
      "provenance": [],
      "name": "programming-assignment_6.ipynb"
    },
    "kernelspec": {
      "name": "python3",
      "display_name": "Python 3"
    },
    "language_info": {
      "name": "python"
    }
  },
  "cells": [
    {
      "cell_type": "code",
      "source": [
        "#  Programming Assignment_6"
      ],
      "metadata": {
        "id": "yxpnT3vZ5VJ6"
      },
      "execution_count": null,
      "outputs": []
    },
    {
      "cell_type": "markdown",
      "source": [
        "1. Write a Python Program to Display Fibonacci Sequence Using Recursion?\n",
        "2. Write a Python Program to Find Factorial of Number Using Recursion?\n",
        "3. Write a Python Program to calculate your Body Mass Index?\n",
        "4. Write a Python Program to calculate the natural logarithm of any number?\n",
        "5. Write a Python Program for cube sum of first n natural numbers?"
      ],
      "metadata": {
        "id": "ytuDZiyU2P67"
      }
    },
    {
      "cell_type": "code",
      "source": [
        "#1. Write a Python Program to Display Fibonacci Sequence Using Recursion?\n",
        "# By recursion\n",
        "def fib(n):\n",
        "    if n == 1 or n == 2:\n",
        "        return 1 \n",
        "    else:\n",
        "        return(fib(n-1) + fib(n-2))\n",
        "        \n",
        "n = 6\n",
        "for i in range(1,n+1):\n",
        "    print(fib(i))"
      ],
      "metadata": {
        "colab": {
          "base_uri": "https://localhost:8080/"
        },
        "id": "FIpKZI_u2QbY",
        "outputId": "67fa9442-ee93-444f-d6bc-71a276fcf1cc"
      },
      "execution_count": null,
      "outputs": [
        {
          "output_type": "stream",
          "name": "stdout",
          "text": [
            "1\n",
            "1\n",
            "2\n",
            "3\n",
            "5\n",
            "8\n"
          ]
        }
      ]
    },
    {
      "cell_type": "code",
      "source": [
        "# 2.Write a Python Program to Find Factorial of Number Using Recursion?\n",
        "def fact_rec(n):\n",
        "\tif n < 0:\n",
        "\t\treturn\n",
        "\telif n <= 1:\n",
        "\t\treturn 1\n",
        "\telse:\n",
        "\t\treturn n*fact_rec(n-1)\n",
        "\n",
        "answer = fact_rec(4)\n",
        "if answer == None: \n",
        "\tprint(\"Cannot calculate factorial of a negative value\")\n",
        " \n",
        "fact_rec(n)\n",
        " "
      ],
      "metadata": {
        "colab": {
          "base_uri": "https://localhost:8080/"
        },
        "id": "Jb_rwbvG2XyH",
        "outputId": "03563a9e-dc3c-4482-9954-0fc6fc75c166"
      },
      "execution_count": null,
      "outputs": [
        {
          "output_type": "execute_result",
          "data": {
            "text/plain": [
              "720"
            ]
          },
          "metadata": {},
          "execution_count": 6
        }
      ]
    },
    {
      "cell_type": "code",
      "source": [
        "# 3.Write a Python Program to calculate your Body Mass Index?\n",
        "height = float(input(\"Enter your height(m): \"))\n",
        "weight = float(input(\"Enter your weight(kg): \"))\n",
        "print(\"Your BMI is: \", round(weight / (height * height), 2))"
      ],
      "metadata": {
        "colab": {
          "base_uri": "https://localhost:8080/"
        },
        "id": "24UGwaGd2xnw",
        "outputId": "61fc132c-3c7e-4119-c8f7-e080e99442b3"
      },
      "execution_count": null,
      "outputs": [
        {
          "output_type": "stream",
          "name": "stdout",
          "text": [
            "Enter your height(m): 5.5\n",
            "Enter your weight(kg): 66\n",
            "Your BMI is:  2.18\n"
          ]
        }
      ]
    },
    {
      "cell_type": "code",
      "source": [
        "#4. Write a Python Program to calculate the natural logarithm of any number?\n",
        "# Python code to demonstrate the working of\n",
        "# log(a,Base)\n",
        " \n",
        "import math\n",
        " \n",
        "# Printing the log base e of 14\n",
        "print (\"Natural logarithm of 14 is : \", end=\"\")\n",
        "print (math.log(14))\n",
        " \n",
        "# Printing the log base 5 of 14\n",
        "print (\"Logarithm base 5 of 14 is : \", end=\"\")\n",
        "print (math.log(14,5))"
      ],
      "metadata": {
        "colab": {
          "base_uri": "https://localhost:8080/"
        },
        "id": "joC_qUrT4ZLE",
        "outputId": "8aa487e5-dcc0-4081-d842-f0a90d6dfffc"
      },
      "execution_count": null,
      "outputs": [
        {
          "output_type": "stream",
          "name": "stdout",
          "text": [
            "Natural logarithm of 14 is : 2.6390573296152584\n",
            "Logarithm base 5 of 14 is : 1.6397385131955606\n"
          ]
        }
      ]
    },
    {
      "cell_type": "code",
      "source": [
        "# 5.Write a Python Program for cube sum of first n natural numbers?\n",
        "# Simple Python program to find sum of series\n",
        "# with cubes of first n natural numbers\n",
        " \n",
        "# Returns the sum of series\n",
        "def sumOfSeries(n):\n",
        "    sum = 0\n",
        "    for i in range(1, n+1):\n",
        "        sum +=pow(i,3)\n",
        "         \n",
        "    return sum\n",
        " \n",
        "  \n",
        "# Driver Function\n",
        "n = 5\n",
        "print(sumOfSeries(n))\n",
        " \n",
        "# Code Contributed by Lokesh Sharma;"
      ],
      "metadata": {
        "colab": {
          "base_uri": "https://localhost:8080/"
        },
        "id": "bgoKBjcE431c",
        "outputId": "d8bddb56-7bfe-412f-c5c5-a1797932ab21"
      },
      "execution_count": null,
      "outputs": [
        {
          "output_type": "stream",
          "name": "stdout",
          "text": [
            "225\n"
          ]
        }
      ]
    },
    {
      "cell_type": "code",
      "source": [],
      "metadata": {
        "id": "lsNCoxor5JYV"
      },
      "execution_count": null,
      "outputs": []
    }
  ]
}